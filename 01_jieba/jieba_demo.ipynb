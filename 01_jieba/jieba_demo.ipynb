{
 "cells": [
  {
   "cell_type": "code",
   "id": "initial_id",
   "metadata": {
    "collapsed": true,
    "ExecuteTime": {
     "end_time": "2024-11-07T04:08:39.739471Z",
     "start_time": "2024-11-07T04:08:38.817812Z"
    }
   },
   "source": [
    "import jieba\n",
    "\n",
    "# encoding=utf-8\n",
    "strs=[\"我来到北京清华大学\",\"乒乓球拍卖完了\",\"中国科学技术大学\"]\n",
    "\n",
    "seg_list = jieba.cut(\"我来到北京清华大学\", cut_all=True)\n",
    "print(\"Full Mode: \" + \"/ \".join(seg_list))  # 全模式\n",
    "\n",
    "seg_list = jieba.cut(\"我来到北京清华大学\", cut_all=False)\n",
    "print(\"Default Mode: \" + \"/ \".join(seg_list))  # 精确模式\n",
    "\n",
    "seg_list = jieba.cut(\"他来到了网易杭研大厦\")  # 默认是精确模式\n",
    "print(\", \".join(seg_list))\n",
    "\n",
    "seg_list = jieba.cut_for_search(\"小明硕士毕业于中国科学院计算所，后在日本京都大学深造\")  # 搜索引擎模式\n",
    "print(\", \".join(seg_list))"
   ],
   "outputs": [
    {
     "name": "stderr",
     "output_type": "stream",
     "text": [
      "Building prefix dict from the default dictionary ...\n",
      "Loading model from cache C:\\Users\\王琪琛\\AppData\\Local\\Temp\\jieba.cache\n",
      "Loading model cost 0.882 seconds.\n",
      "Prefix dict has been built successfully.\n"
     ]
    },
    {
     "name": "stdout",
     "output_type": "stream",
     "text": [
      "Full Mode: 我/ 来到/ 北京/ 清华/ 清华大学/ 华大/ 大学\n",
      "Default Mode: 我/ 来到/ 北京/ 清华大学\n",
      "他, 来到, 了, 网易, 杭研, 大厦\n",
      "小明, 硕士, 毕业, 于, 中国, 科学, 学院, 科学院, 中国科学院, 计算, 计算所, ，, 后, 在, 日本, 京都, 大学, 日本京都大学, 深造\n"
     ]
    }
   ],
   "execution_count": 1
  },
  {
   "metadata": {
    "ExecuteTime": {
     "end_time": "2024-11-07T04:08:43.811261Z",
     "start_time": "2024-11-07T04:08:43.804263Z"
    }
   },
   "cell_type": "code",
   "source": [
    "seg_list = jieba.cut(\"给我找一个英雄联盟的比赛视频\")  # 搜索引擎模式\n",
    "print(\", \".join(seg_list))\n",
    "\n",
    "seg_list = jieba.cut(\"我要听治愈系的日语歌曲\")  # 搜索引擎模式\n",
    "print(\", \".join(seg_list))"
   ],
   "id": "4f37fb6a7f3ac7e1",
   "outputs": [
    {
     "name": "stdout",
     "output_type": "stream",
     "text": [
      "给, 我, 找, 一个, 英雄, 联盟, 的, 比赛, 视频\n",
      "我要, 听, 治愈, 系, 的, 日语, 歌曲\n"
     ]
    }
   ],
   "execution_count": 2
  },
  {
   "metadata": {
    "ExecuteTime": {
     "end_time": "2024-11-07T04:08:45.309398Z",
     "start_time": "2024-11-07T04:08:45.288392Z"
    }
   },
   "cell_type": "code",
   "source": [
    "seg_list = jieba.cut(\"给我找一个英雄联盟的比赛视频\")  # 搜索引擎模式\n",
    "print(\", \".join(seg_list))\n",
    "\n",
    "seg_list = jieba.cut(\"我要听治愈系的日语歌曲\")  # 搜索引擎模式\n",
    "print(\", \".join(seg_list))\n",
    "\n",
    "jieba.load_userdict(\"./dict/dict.txt\")\n",
    "\n",
    "seg_list = jieba.cut(\"给我找一个英雄联盟的比赛视频\")  # 搜索引擎模式\n",
    "print(\", \".join(seg_list))\n",
    "\n",
    "seg_list = jieba.cut(\"我要听治愈系的日语歌曲\")  # 搜索引擎模式\n",
    "print(\", \".join(seg_list))"
   ],
   "id": "81e79be3af017ba5",
   "outputs": [
    {
     "name": "stdout",
     "output_type": "stream",
     "text": [
      "给, 我, 找, 一个, 英雄, 联盟, 的, 比赛, 视频\n",
      "我要, 听, 治愈, 系, 的, 日语, 歌曲\n",
      "给, 我, 找, 一个, 英雄联盟, 的, 比赛, 视频\n",
      "我要, 听, 治愈系, 的, 日语, 歌曲\n"
     ]
    }
   ],
   "execution_count": 3
  },
  {
   "metadata": {
    "ExecuteTime": {
     "end_time": "2024-11-07T04:08:47.348564Z",
     "start_time": "2024-11-07T04:08:47.328566Z"
    }
   },
   "cell_type": "code",
   "source": [
    "print('/'.join(jieba.cut('如果放到post中将出错。', HMM=False)))\n",
    "jieba.suggest_freq(('中', '将'), True)\n",
    "print('/'.join(jieba.cut('如果放到post中将出错。', HMM=False)))\n",
    "\n",
    "print('/'.join(jieba.cut('「台中」正确应该不会被切开', HMM=False)))\n",
    "jieba.suggest_freq('台中', True)\n",
    "print('/'.join(jieba.cut('「台中」正确应该不会被切开', HMM=False)))"
   ],
   "id": "ecbb7b5a2ed57d83",
   "outputs": [
    {
     "name": "stdout",
     "output_type": "stream",
     "text": [
      "如果/放到/post/中将/出错/。\n",
      "如果/放到/post/中/将/出错/。\n",
      "「/台/中/」/正确/应该/不会/被/切开\n",
      "「/台中/」/正确/应该/不会/被/切开\n"
     ]
    }
   ],
   "execution_count": 4
  }
 ],
 "metadata": {
  "kernelspec": {
   "display_name": "Python 3",
   "language": "python",
   "name": "python3"
  },
  "language_info": {
   "codemirror_mode": {
    "name": "ipython",
    "version": 2
   },
   "file_extension": ".py",
   "mimetype": "text/x-python",
   "name": "python",
   "nbconvert_exporter": "python",
   "pygments_lexer": "ipython2",
   "version": "2.7.6"
  }
 },
 "nbformat": 4,
 "nbformat_minor": 5
}
